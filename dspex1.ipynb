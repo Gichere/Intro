{
  "nbformat": 4,
  "nbformat_minor": 0,
  "metadata": {
    "colab": {
      "name": "dspex1.ipynb",
      "provenance": [],
      "authorship_tag": "ABX9TyMDjLe8FuBxgrtLeSpDR4JJ",
      "include_colab_link": true
    },
    "kernelspec": {
      "name": "python3",
      "display_name": "Python 3"
    }
  },
  "cells": [
    {
      "cell_type": "markdown",
      "metadata": {
        "id": "view-in-github",
        "colab_type": "text"
      },
      "source": [
        "<a href=\"https://colab.research.google.com/github/Gichere/Intro/blob/master/dspex1.ipynb\" target=\"_parent\"><img src=\"https://colab.research.google.com/assets/colab-badge.svg\" alt=\"Open In Colab\"/></a>"
      ]
    },
    {
      "cell_type": "code",
      "metadata": {
        "id": "SgBZT3CkOhFr",
        "colab_type": "code",
        "colab": {}
      },
      "source": [
        "algorithm=['Linear Regression','Logistic Regression','RandomForest','a3c']"
      ],
      "execution_count": 0,
      "outputs": []
    },
    {
      "cell_type": "code",
      "metadata": {
        "id": "Ceyxcn9dPRqS",
        "colab_type": "code",
        "colab": {}
      },
      "source": [
        "learning=['Supervised','Supervised','Supervised','Reinforcement']"
      ],
      "execution_count": 0,
      "outputs": []
    },
    {
      "cell_type": "code",
      "metadata": {
        "id": "Kw2MXB-KPfBa",
        "colab_type": "code",
        "colab": {}
      },
      "source": [
        "algorithm_type=['Regression','Classification','Regression or Classification','Game AI']"
      ],
      "execution_count": 0,
      "outputs": []
    },
    {
      "cell_type": "code",
      "metadata": {
        "id": "kbaHNxAJP7-D",
        "colab_type": "code",
        "colab": {}
      },
      "source": [
        "algorithm.append('k-means')"
      ],
      "execution_count": 0,
      "outputs": []
    },
    {
      "cell_type": "code",
      "metadata": {
        "id": "NBE_FigtQK1i",
        "colab_type": "code",
        "colab": {
          "base_uri": "https://localhost:8080/",
          "height": 35
        },
        "outputId": "c7263892-34f9-45e4-e2c7-fb8dfa0b1588"
      },
      "source": [
        "print(algorithm)"
      ],
      "execution_count": 5,
      "outputs": [
        {
          "output_type": "stream",
          "text": [
            "['Linear Regression', 'Logistic Regression', 'RandomForest', 'a3c', 'k-means']\n"
          ],
          "name": "stdout"
        }
      ]
    },
    {
      "cell_type": "code",
      "metadata": {
        "id": "TEBtSoV4QUus",
        "colab_type": "code",
        "colab": {
          "base_uri": "https://localhost:8080/",
          "height": 35
        },
        "outputId": "c081d41b-7bb5-4a25-c781-59f9470872c7"
      },
      "source": [
        "learning.append('Unsupervised')\n",
        "print(learning)"
      ],
      "execution_count": 7,
      "outputs": [
        {
          "output_type": "stream",
          "text": [
            "['Supervised', 'Supervised', 'Supervised', 'Reinforcement', 'Unsupervised', 'Unsupervised']\n"
          ],
          "name": "stdout"
        }
      ]
    },
    {
      "cell_type": "code",
      "metadata": {
        "id": "txUv57hZYfW9",
        "colab_type": "code",
        "colab": {
          "base_uri": "https://localhost:8080/",
          "height": 35
        },
        "outputId": "359d618d-1ca8-46c6-ecb1-3e9643b9faab"
      },
      "source": [
        "algorithm_type.append('Clustering')\n",
        "print(algorithm_type)"
      ],
      "execution_count": 8,
      "outputs": [
        {
          "output_type": "stream",
          "text": [
            "['Regression', 'Classification', 'Regression or Classification', 'Game AI', 'Clustering']\n"
          ],
          "name": "stdout"
        }
      ]
    },
    {
      "cell_type": "code",
      "metadata": {
        "id": "wdEHl9-MYzzV",
        "colab_type": "code",
        "colab": {}
      },
      "source": [
        "machine_learning={}"
      ],
      "execution_count": 0,
      "outputs": []
    },
    {
      "cell_type": "code",
      "metadata": {
        "id": "j8y6qdmnZAH8",
        "colab_type": "code",
        "colab": {
          "base_uri": "https://localhost:8080/",
          "height": 35
        },
        "outputId": "c9afc70f-cd79-4e44-f4c1-96ac4f631384"
      },
      "source": [
        "machine_learning['algorithm']=algorithm\n",
        "print(machine_learning)"
      ],
      "execution_count": 11,
      "outputs": [
        {
          "output_type": "stream",
          "text": [
            "{'algorithm': ['Linear Regression', 'Logistic Regression', 'RandomForest', 'a3c', 'k-means']}\n"
          ],
          "name": "stdout"
        }
      ]
    },
    {
      "cell_type": "code",
      "metadata": {
        "id": "GwpnZIoVZ1SA",
        "colab_type": "code",
        "colab": {
          "base_uri": "https://localhost:8080/",
          "height": 55
        },
        "outputId": "b872a245-8a02-4ce5-fbbf-0ec66c516aa6"
      },
      "source": [
        "machine_learning['learning']=learning\n",
        "print(machine_learning)"
      ],
      "execution_count": 13,
      "outputs": [
        {
          "output_type": "stream",
          "text": [
            "{'algorithm': ['Linear Regression', 'Logistic Regression', 'RandomForest', 'a3c', 'k-means'], 'learning': ['Supervised', 'Supervised', 'Supervised', 'Reinforcement', 'Unsupervised', 'Unsupervised']}\n"
          ],
          "name": "stdout"
        }
      ]
    },
    {
      "cell_type": "code",
      "metadata": {
        "id": "jOt9iNeRZ7Ye",
        "colab_type": "code",
        "colab": {
          "base_uri": "https://localhost:8080/",
          "height": 55
        },
        "outputId": "7aec875b-e142-495d-810c-3a3ffe0c1fab"
      },
      "source": [
        "machine_learning['algorithm_type']=algorithm_type\n",
        "print(machine_learning)"
      ],
      "execution_count": 15,
      "outputs": [
        {
          "output_type": "stream",
          "text": [
            "{'algorithm': ['Linear Regression', 'Logistic Regression', 'RandomForest', 'a3c', 'k-means'], 'learning': ['Supervised', 'Supervised', 'Supervised', 'Reinforcement', 'Unsupervised', 'Unsupervised'], 'algorithm_type': ['Regression', 'Classification', 'Regression or Classification', 'Game AI', 'Clustering']}\n"
          ],
          "name": "stdout"
        }
      ]
    },
    {
      "cell_type": "code",
      "metadata": {
        "id": "8-gdWATVaXwo",
        "colab_type": "code",
        "colab": {
          "base_uri": "https://localhost:8080/",
          "height": 35
        },
        "outputId": "b5fe2d93-4e5e-4dc8-b6e6-e61f519d2a7e"
      },
      "source": [
        "machine_learning['algorithm'].remove('a3c')\n",
        "print(machine_learning['algorithm'])"
      ],
      "execution_count": 21,
      "outputs": [
        {
          "output_type": "stream",
          "text": [
            "['Linear Regression', 'Logistic Regression', 'RandomForest', 'k-means']\n"
          ],
          "name": "stdout"
        }
      ]
    },
    {
      "cell_type": "code",
      "metadata": {
        "id": "C2yk0u4hbpZq",
        "colab_type": "code",
        "colab": {
          "base_uri": "https://localhost:8080/",
          "height": 35
        },
        "outputId": "6d70465d-3bb3-4669-9de7-2b636f8f7c01"
      },
      "source": [
        "machine_learning['learning'].remove('Reinforcement')\n",
        "print(machine_learning['learning'])"
      ],
      "execution_count": 22,
      "outputs": [
        {
          "output_type": "stream",
          "text": [
            "['Supervised', 'Supervised', 'Supervised', 'Unsupervised', 'Unsupervised']\n"
          ],
          "name": "stdout"
        }
      ]
    },
    {
      "cell_type": "code",
      "metadata": {
        "id": "UHRQFsuEcC2L",
        "colab_type": "code",
        "colab": {
          "base_uri": "https://localhost:8080/",
          "height": 35
        },
        "outputId": "c8803a90-4d3d-4f93-8425-d257008d0885"
      },
      "source": [
        "machine_learning['algorithm_type'].remove('Game AI')\n",
        "print(machine_learning['algorithm_type'])"
      ],
      "execution_count": 23,
      "outputs": [
        {
          "output_type": "stream",
          "text": [
            "['Regression', 'Classification', 'Regression or Classification', 'Clustering']\n"
          ],
          "name": "stdout"
        }
      ]
    },
    {
      "cell_type": "code",
      "metadata": {
        "id": "Id_uVPCtcWZR",
        "colab_type": "code",
        "colab": {
          "base_uri": "https://localhost:8080/",
          "height": 55
        },
        "outputId": "2cf9c629-e871-4fa9-ba83-36ba8e30815b"
      },
      "source": [
        "print(machine_learning)"
      ],
      "execution_count": 24,
      "outputs": [
        {
          "output_type": "stream",
          "text": [
            "{'algorithm': ['Linear Regression', 'Logistic Regression', 'RandomForest', 'k-means'], 'learning': ['Supervised', 'Supervised', 'Supervised', 'Unsupervised', 'Unsupervised'], 'algorithm_type': ['Regression', 'Classification', 'Regression or Classification', 'Clustering']}\n"
          ],
          "name": "stdout"
        }
      ]
    },
    {
      "cell_type": "code",
      "metadata": {
        "id": "CLNQv1ARk5Q4",
        "colab_type": "code",
        "colab": {}
      },
      "source": [
        "import pandas as pd"
      ],
      "execution_count": 0,
      "outputs": []
    },
    {
      "cell_type": "code",
      "metadata": {
        "id": "Gy4TFruflH99",
        "colab_type": "code",
        "colab": {
          "base_uri": "https://localhost:8080/",
          "height": 175
        },
        "outputId": "08887b7c-5cc6-4d2e-cfa1-e2c3504be216"
      },
      "source": [
        "pd.read_csv('https://raw.githubusercontent.com/PacktWorkshops/The-Data-Science-Workshop/master/Chapter01/Dataset/csv_example.csv')"
      ],
      "execution_count": 26,
      "outputs": [
        {
          "output_type": "execute_result",
          "data": {
            "text/html": [
              "<div>\n",
              "<style scoped>\n",
              "    .dataframe tbody tr th:only-of-type {\n",
              "        vertical-align: middle;\n",
              "    }\n",
              "\n",
              "    .dataframe tbody tr th {\n",
              "        vertical-align: top;\n",
              "    }\n",
              "\n",
              "    .dataframe thead th {\n",
              "        text-align: right;\n",
              "    }\n",
              "</style>\n",
              "<table border=\"1\" class=\"dataframe\">\n",
              "  <thead>\n",
              "    <tr style=\"text-align: right;\">\n",
              "      <th></th>\n",
              "      <th>algorithm</th>\n",
              "      <th>learning</th>\n",
              "      <th>type</th>\n",
              "    </tr>\n",
              "  </thead>\n",
              "  <tbody>\n",
              "    <tr>\n",
              "      <th>0</th>\n",
              "      <td>Linear Regression</td>\n",
              "      <td>Supervised</td>\n",
              "      <td>Regression</td>\n",
              "    </tr>\n",
              "    <tr>\n",
              "      <th>1</th>\n",
              "      <td>Logistic Regression</td>\n",
              "      <td>Supervised</td>\n",
              "      <td>Classification</td>\n",
              "    </tr>\n",
              "    <tr>\n",
              "      <th>2</th>\n",
              "      <td>RandomForest</td>\n",
              "      <td>Supervised</td>\n",
              "      <td>Regression or Classification</td>\n",
              "    </tr>\n",
              "    <tr>\n",
              "      <th>3</th>\n",
              "      <td>k-means</td>\n",
              "      <td>Unsupervised</td>\n",
              "      <td>Clustering</td>\n",
              "    </tr>\n",
              "  </tbody>\n",
              "</table>\n",
              "</div>"
            ],
            "text/plain": [
              "             algorithm      learning                          type\n",
              "0    Linear Regression    Supervised                    Regression\n",
              "1  Logistic Regression    Supervised                Classification\n",
              "2         RandomForest    Supervised  Regression or Classification\n",
              "3              k-means  Unsupervised                    Clustering"
            ]
          },
          "metadata": {
            "tags": []
          },
          "execution_count": 26
        }
      ]
    },
    {
      "cell_type": "code",
      "metadata": {
        "id": "46q4Ev6TlWoh",
        "colab_type": "code",
        "colab": {
          "base_uri": "https://localhost:8080/",
          "height": 175
        },
        "outputId": "5fb6f59e-facc-4730-8d22-9554175558a1"
      },
      "source": [
        "pd.read_excel('https://github.com/PacktWorkshops/The-Data-Science-Workshop/blob/master/Chapter01/Dataset/excel_example.xlsx?raw=true')"
      ],
      "execution_count": 27,
      "outputs": [
        {
          "output_type": "execute_result",
          "data": {
            "text/html": [
              "<div>\n",
              "<style scoped>\n",
              "    .dataframe tbody tr th:only-of-type {\n",
              "        vertical-align: middle;\n",
              "    }\n",
              "\n",
              "    .dataframe tbody tr th {\n",
              "        vertical-align: top;\n",
              "    }\n",
              "\n",
              "    .dataframe thead th {\n",
              "        text-align: right;\n",
              "    }\n",
              "</style>\n",
              "<table border=\"1\" class=\"dataframe\">\n",
              "  <thead>\n",
              "    <tr style=\"text-align: right;\">\n",
              "      <th></th>\n",
              "      <th>algorithm</th>\n",
              "      <th>learning</th>\n",
              "      <th>type</th>\n",
              "    </tr>\n",
              "  </thead>\n",
              "  <tbody>\n",
              "    <tr>\n",
              "      <th>0</th>\n",
              "      <td>Linear Regression</td>\n",
              "      <td>Supervised</td>\n",
              "      <td>Regression</td>\n",
              "    </tr>\n",
              "    <tr>\n",
              "      <th>1</th>\n",
              "      <td>Logistic Regression</td>\n",
              "      <td>Supervised</td>\n",
              "      <td>Classification</td>\n",
              "    </tr>\n",
              "    <tr>\n",
              "      <th>2</th>\n",
              "      <td>RandomForest</td>\n",
              "      <td>Supervised</td>\n",
              "      <td>Regression or Classification</td>\n",
              "    </tr>\n",
              "    <tr>\n",
              "      <th>3</th>\n",
              "      <td>k-means</td>\n",
              "      <td>Unsupervised</td>\n",
              "      <td>Clustering</td>\n",
              "    </tr>\n",
              "  </tbody>\n",
              "</table>\n",
              "</div>"
            ],
            "text/plain": [
              "             algorithm      learning                          type\n",
              "0    Linear Regression    Supervised                    Regression\n",
              "1  Logistic Regression    Supervised                Classification\n",
              "2         RandomForest    Supervised  Regression or Classification\n",
              "3              k-means  Unsupervised                    Clustering"
            ]
          },
          "metadata": {
            "tags": []
          },
          "execution_count": 27
        }
      ]
    },
    {
      "cell_type": "code",
      "metadata": {
        "id": "ofUgo693mqhJ",
        "colab_type": "code",
        "colab": {
          "base_uri": "https://localhost:8080/",
          "height": 175
        },
        "outputId": "db02f8eb-3ab7-45fa-a855-9288e8a92d18"
      },
      "source": [
        "pd.read_json('https://raw.githubusercontent.com/PacktWorkshops/The-Data-Science-Workshop/master/Chapter01/Dataset/json_example.json')"
      ],
      "execution_count": 28,
      "outputs": [
        {
          "output_type": "execute_result",
          "data": {
            "text/html": [
              "<div>\n",
              "<style scoped>\n",
              "    .dataframe tbody tr th:only-of-type {\n",
              "        vertical-align: middle;\n",
              "    }\n",
              "\n",
              "    .dataframe tbody tr th {\n",
              "        vertical-align: top;\n",
              "    }\n",
              "\n",
              "    .dataframe thead th {\n",
              "        text-align: right;\n",
              "    }\n",
              "</style>\n",
              "<table border=\"1\" class=\"dataframe\">\n",
              "  <thead>\n",
              "    <tr style=\"text-align: right;\">\n",
              "      <th></th>\n",
              "      <th>algorithm</th>\n",
              "      <th>learning</th>\n",
              "      <th>type</th>\n",
              "    </tr>\n",
              "  </thead>\n",
              "  <tbody>\n",
              "    <tr>\n",
              "      <th>0</th>\n",
              "      <td>Linear Regression</td>\n",
              "      <td>Supervised</td>\n",
              "      <td>Regression</td>\n",
              "    </tr>\n",
              "    <tr>\n",
              "      <th>1</th>\n",
              "      <td>Logistic Regression</td>\n",
              "      <td>Supervised</td>\n",
              "      <td>Classification</td>\n",
              "    </tr>\n",
              "    <tr>\n",
              "      <th>2</th>\n",
              "      <td>RandomForest</td>\n",
              "      <td>Supervised</td>\n",
              "      <td>Regression or Classification</td>\n",
              "    </tr>\n",
              "    <tr>\n",
              "      <th>3</th>\n",
              "      <td>k-means</td>\n",
              "      <td>Unsupervised</td>\n",
              "      <td>Clustering</td>\n",
              "    </tr>\n",
              "  </tbody>\n",
              "</table>\n",
              "</div>"
            ],
            "text/plain": [
              "             algorithm      learning                          type\n",
              "0    Linear Regression    Supervised                    Regression\n",
              "1  Logistic Regression    Supervised                Classification\n",
              "2         RandomForest    Supervised  Regression or Classification\n",
              "3              k-means  Unsupervised                    Clustering"
            ]
          },
          "metadata": {
            "tags": []
          },
          "execution_count": 28
        }
      ]
    },
    {
      "cell_type": "code",
      "metadata": {
        "id": "36yossymmsuA",
        "colab_type": "code",
        "colab": {}
      },
      "source": [
        ""
      ],
      "execution_count": 0,
      "outputs": []
    }
  ]
}